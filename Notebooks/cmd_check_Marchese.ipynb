{
 "cells": [
  {
   "cell_type": "markdown",
   "id": "80267116",
   "metadata": {},
   "source": [
    "## Code to go through dataset and ensure there are no left-right/right-left movements"
   ]
  },
  {
   "cell_type": "code",
   "execution_count": 1,
   "id": "154319fb",
   "metadata": {},
   "outputs": [],
   "source": [
    "from pathlib import Path"
   ]
  },
  {
   "cell_type": "code",
   "execution_count": 2,
   "id": "d043055b",
   "metadata": {},
   "outputs": [],
   "source": [
    "img_dir_left = Path(\"data/left\")\n",
    "img_dir_right = Path(\"data/right\")"
   ]
  },
  {
   "cell_type": "code",
   "execution_count": 3,
   "id": "d7abfc2c",
   "metadata": {},
   "outputs": [],
   "source": [
    "for file_l in img_dir_left.iterdir():\n",
    "    if \"right\" in str(file_l):\n",
    "        print(file_l)\n",
    "        file_l.unlink()"
   ]
  },
  {
   "cell_type": "code",
   "execution_count": 4,
   "id": "5628f9a6",
   "metadata": {},
   "outputs": [],
   "source": [
    "for file_r in img_dir_right.iterdir():\n",
    "    if \"left\" in str(file_r):\n",
    "        print(file_r)\n",
    "        file_r.unlink()"
   ]
  },
  {
   "cell_type": "code",
   "execution_count": null,
   "id": "e11962b0",
   "metadata": {},
   "outputs": [],
   "source": []
  }
 ],
 "metadata": {
  "kernelspec": {
   "display_name": "Python 3",
   "language": "python",
   "name": "python3"
  },
  "language_info": {
   "codemirror_mode": {
    "name": "ipython",
    "version": 3
   },
   "file_extension": ".py",
   "mimetype": "text/x-python",
   "name": "python",
   "nbconvert_exporter": "python",
   "pygments_lexer": "ipython3",
   "version": "3.8.10"
  }
 },
 "nbformat": 4,
 "nbformat_minor": 5
}
